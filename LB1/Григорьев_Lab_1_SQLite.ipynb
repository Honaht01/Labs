{
 "cells": [
  {
   "cell_type": "code",
   "execution_count": 1,
   "id": "5282c0a6-2c80-4bde-81c5-48487ad727d6",
   "metadata": {},
   "outputs": [
    {
     "name": "stdout",
     "output_type": "stream",
     "text": [
      "Requirement already satisfied: requests in ./.config/jupyterlab-desktop/jlab_server/lib/python3.12/site-packages (2.32.2)\n",
      "Requirement already satisfied: beautifulsoup4 in ./.config/jupyterlab-desktop/jlab_server/lib/python3.12/site-packages (4.12.3)\n",
      "Requirement already satisfied: pymongo in ./.config/jupyterlab-desktop/jlab_server/lib/python3.12/site-packages (4.8.0)\n",
      "Requirement already satisfied: pandas in ./.config/jupyterlab-desktop/jlab_server/lib/python3.12/site-packages (2.2.2)\n",
      "Requirement already satisfied: matplotlib in ./.config/jupyterlab-desktop/jlab_server/lib/python3.12/site-packages (3.8.4)\n",
      "Requirement already satisfied: charset-normalizer<4,>=2 in ./.config/jupyterlab-desktop/jlab_server/lib/python3.12/site-packages (from requests) (3.3.2)\n",
      "Requirement already satisfied: idna<4,>=2.5 in ./.config/jupyterlab-desktop/jlab_server/lib/python3.12/site-packages (from requests) (3.7)\n",
      "Requirement already satisfied: urllib3<3,>=1.21.1 in ./.config/jupyterlab-desktop/jlab_server/lib/python3.12/site-packages (from requests) (2.2.1)\n",
      "Requirement already satisfied: certifi>=2017.4.17 in ./.config/jupyterlab-desktop/jlab_server/lib/python3.12/site-packages (from requests) (2024.2.2)\n",
      "Requirement already satisfied: soupsieve>1.2 in ./.config/jupyterlab-desktop/jlab_server/lib/python3.12/site-packages (from beautifulsoup4) (2.5)\n",
      "Requirement already satisfied: dnspython<3.0.0,>=1.16.0 in ./.config/jupyterlab-desktop/jlab_server/lib/python3.12/site-packages (from pymongo) (2.6.1)\n",
      "Requirement already satisfied: numpy>=1.26.0 in ./.config/jupyterlab-desktop/jlab_server/lib/python3.12/site-packages (from pandas) (1.26.4)\n",
      "Requirement already satisfied: python-dateutil>=2.8.2 in ./.config/jupyterlab-desktop/jlab_server/lib/python3.12/site-packages (from pandas) (2.9.0)\n",
      "Requirement already satisfied: pytz>=2020.1 in ./.config/jupyterlab-desktop/jlab_server/lib/python3.12/site-packages (from pandas) (2024.1)\n",
      "Requirement already satisfied: tzdata>=2022.7 in ./.config/jupyterlab-desktop/jlab_server/lib/python3.12/site-packages (from pandas) (2024.1)\n",
      "Requirement already satisfied: contourpy>=1.0.1 in ./.config/jupyterlab-desktop/jlab_server/lib/python3.12/site-packages (from matplotlib) (1.2.1)\n",
      "Requirement already satisfied: cycler>=0.10 in ./.config/jupyterlab-desktop/jlab_server/lib/python3.12/site-packages (from matplotlib) (0.12.1)\n",
      "Requirement already satisfied: fonttools>=4.22.0 in ./.config/jupyterlab-desktop/jlab_server/lib/python3.12/site-packages (from matplotlib) (4.51.0)\n",
      "Requirement already satisfied: kiwisolver>=1.3.1 in ./.config/jupyterlab-desktop/jlab_server/lib/python3.12/site-packages (from matplotlib) (1.4.5)\n",
      "Requirement already satisfied: packaging>=20.0 in ./.config/jupyterlab-desktop/jlab_server/lib/python3.12/site-packages (from matplotlib) (24.0)\n",
      "Requirement already satisfied: pillow>=8 in ./.config/jupyterlab-desktop/jlab_server/lib/python3.12/site-packages (from matplotlib) (10.3.0)\n",
      "Requirement already satisfied: pyparsing>=2.3.1 in ./.config/jupyterlab-desktop/jlab_server/lib/python3.12/site-packages (from matplotlib) (3.1.2)\n",
      "Requirement already satisfied: six>=1.5 in ./.config/jupyterlab-desktop/jlab_server/lib/python3.12/site-packages (from python-dateutil>=2.8.2->pandas) (1.16.0)\n",
      "Note: you may need to restart the kernel to use updated packages.\n"
     ]
    }
   ],
   "source": [
    "pip install requests beautifulsoup4 pymongo pandas matplotlib "
   ]
  },
  {
   "cell_type": "code",
   "execution_count": 2,
   "id": "3d19e160-0768-4f65-ae76-a3d4c1b4c2c8",
   "metadata": {},
   "outputs": [],
   "source": [
    "import requests\n",
    "from bs4 import BeautifulSoup\n",
    "from pymongo import MongoClient\n",
    "import sqlite3\n",
    "import pandas as pd\n",
    "import matplotlib.pyplot as plt "
   ]
  },
  {
   "cell_type": "code",
   "execution_count": 3,
   "id": "b42eaf1f-1480-4b32-b64e-414b6371aa17",
   "metadata": {},
   "outputs": [],
   "source": [
    "url = 'https://www.investing.com/indices/major-indices'\n",
    "response = requests.get(url)\n",
    "page_content = response.content "
   ]
  },
  {
   "cell_type": "code",
   "execution_count": 4,
   "id": "1c8fe246-6d91-4ccb-9c00-320ab49d7b5b",
   "metadata": {},
   "outputs": [],
   "source": [
    "soup = BeautifulSoup(page_content, 'html.parser')\n",
    "table = soup.find('tbody', {'class': 'datatable-v2_body__8TXQk'})\n",
    "rows = table.find_all('tr')"
   ]
  },
  {
   "cell_type": "code",
   "execution_count": 7,
   "id": "6de82555-f73d-4dcf-85c4-645ec38f5823",
   "metadata": {},
   "outputs": [],
   "source": [
    "data = []\n",
    "for row in rows[1:]: # Пропускаем заголовок\n",
    " cols = row.find_all('td')\n",
    " cols = [ele.text.strip() for ele in cols]  \n",
    " data.append(cols)\n",
    "df = pd.DataFrame(data, columns=['#', 'Name', 'Last', 'High', 'Low', 'Change', 'Change%', 'Time'])\n",
    "df['Last'] = df['Last'].str.replace(',', '').astype(float) \n",
    "df['High'] = df['High'].str.replace(',', '').astype(float) \n",
    "df['Low'] = df['Low'].str.replace(',', '').astype(float) "
   ]
  },
  {
   "cell_type": "code",
   "execution_count": 8,
   "id": "a52df8ee-d6b6-471e-b3d9-a4d100321e2c",
   "metadata": {},
   "outputs": [
    {
     "data": {
      "text/html": [
       "<div>\n",
       "<style scoped>\n",
       "    .dataframe tbody tr th:only-of-type {\n",
       "        vertical-align: middle;\n",
       "    }\n",
       "\n",
       "    .dataframe tbody tr th {\n",
       "        vertical-align: top;\n",
       "    }\n",
       "\n",
       "    .dataframe thead th {\n",
       "        text-align: right;\n",
       "    }\n",
       "</style>\n",
       "<table border=\"1\" class=\"dataframe\">\n",
       "  <thead>\n",
       "    <tr style=\"text-align: right;\">\n",
       "      <th></th>\n",
       "      <th>#</th>\n",
       "      <th>Name</th>\n",
       "      <th>Last</th>\n",
       "      <th>High</th>\n",
       "      <th>Low</th>\n",
       "      <th>Change</th>\n",
       "      <th>Change%</th>\n",
       "      <th>Time</th>\n",
       "    </tr>\n",
       "  </thead>\n",
       "  <tbody>\n",
       "    <tr>\n",
       "      <th>0</th>\n",
       "      <td></td>\n",
       "      <td>S&amp;P 500 derived</td>\n",
       "      <td>5485.31</td>\n",
       "      <td>5493.30</td>\n",
       "      <td>5441.81</td>\n",
       "      <td>+14.26</td>\n",
       "      <td>+0.26%</td>\n",
       "      <td>14:30:41</td>\n",
       "    </tr>\n",
       "    <tr>\n",
       "      <th>1</th>\n",
       "      <td></td>\n",
       "      <td>Nasdaq</td>\n",
       "      <td>16996.41</td>\n",
       "      <td>17018.75</td>\n",
       "      <td>16801.13</td>\n",
       "      <td>+111.80</td>\n",
       "      <td>+0.66%</td>\n",
       "      <td>14:30:23</td>\n",
       "    </tr>\n",
       "    <tr>\n",
       "      <th>2</th>\n",
       "      <td></td>\n",
       "      <td>Small Cap 2000 derived</td>\n",
       "      <td>2089.75</td>\n",
       "      <td>2099.15</td>\n",
       "      <td>2068.95</td>\n",
       "      <td>-8.03</td>\n",
       "      <td>-0.38%</td>\n",
       "      <td>14:30:25</td>\n",
       "    </tr>\n",
       "    <tr>\n",
       "      <th>3</th>\n",
       "      <td></td>\n",
       "      <td>S&amp;P 500 VIX derived</td>\n",
       "      <td>19.22</td>\n",
       "      <td>20.74</td>\n",
       "      <td>19.01</td>\n",
       "      <td>-0.23</td>\n",
       "      <td>-1.18%</td>\n",
       "      <td>14:30:31</td>\n",
       "    </tr>\n",
       "    <tr>\n",
       "      <th>4</th>\n",
       "      <td></td>\n",
       "      <td>S&amp;P/TSX</td>\n",
       "      <td>22879.28</td>\n",
       "      <td>23030.65</td>\n",
       "      <td>22791.55</td>\n",
       "      <td>-147.87</td>\n",
       "      <td>-0.64%</td>\n",
       "      <td>14:30:01</td>\n",
       "    </tr>\n",
       "  </tbody>\n",
       "</table>\n",
       "</div>"
      ],
      "text/plain": [
       "  #                    Name      Last      High       Low   Change Change%  \\\n",
       "0           S&P 500 derived   5485.31   5493.30   5441.81   +14.26  +0.26%   \n",
       "1                    Nasdaq  16996.41  17018.75  16801.13  +111.80  +0.66%   \n",
       "2    Small Cap 2000 derived   2089.75   2099.15   2068.95    -8.03  -0.38%   \n",
       "3       S&P 500 VIX derived     19.22     20.74     19.01    -0.23  -1.18%   \n",
       "4                   S&P/TSX  22879.28  23030.65  22791.55  -147.87  -0.64%   \n",
       "\n",
       "       Time  \n",
       "0  14:30:41  \n",
       "1  14:30:23  \n",
       "2  14:30:25  \n",
       "3  14:30:31  \n",
       "4  14:30:01  "
      ]
     },
     "execution_count": 8,
     "metadata": {},
     "output_type": "execute_result"
    }
   ],
   "source": [
    "df.head()"
   ]
  },
  {
   "cell_type": "code",
   "execution_count": 9,
   "id": "bb42b0a8-1b8c-4584-b8f8-b694bc210fb1",
   "metadata": {},
   "outputs": [
    {
     "name": "stdout",
     "output_type": "stream",
     "text": [
      "<class 'pandas.core.frame.DataFrame'>\n",
      "RangeIndex: 46 entries, 0 to 45\n",
      "Data columns (total 8 columns):\n",
      " #   Column   Non-Null Count  Dtype  \n",
      "---  ------   --------------  -----  \n",
      " 0   #        46 non-null     object \n",
      " 1   Name     46 non-null     object \n",
      " 2   Last     46 non-null     float64\n",
      " 3   High     46 non-null     float64\n",
      " 4   Low      46 non-null     float64\n",
      " 5   Change   46 non-null     object \n",
      " 6   Change%  46 non-null     object \n",
      " 7   Time     46 non-null     object \n",
      "dtypes: float64(3), object(5)\n",
      "memory usage: 3.0+ KB\n"
     ]
    }
   ],
   "source": [
    "df.info()"
   ]
  },
  {
   "cell_type": "code",
   "execution_count": 10,
   "id": "ea0e1813-adf8-46da-90fe-795eec8f28ee",
   "metadata": {},
   "outputs": [
    {
     "data": {
      "text/plain": [
       "46"
      ]
     },
     "execution_count": 10,
     "metadata": {},
     "output_type": "execute_result"
    }
   ],
   "source": [
    "conn = sqlite3.connect('financial_data.db')\n",
    "df.to_sql('daily_ind', conn, if_exists='replace', index=False)"
   ]
  },
  {
   "cell_type": "code",
   "execution_count": 11,
   "id": "a79ba133-3d9b-4c48-abe3-4fc1c52ba013",
   "metadata": {},
   "outputs": [
    {
     "name": "stdout",
     "output_type": "stream",
     "text": [
      "  #    Name      Last      High       Low   Change Change%      Time\n",
      "0    Nasdaq  16996.41  17018.75  16801.13  +111.80  +0.66%  14:30:23\n"
     ]
    }
   ],
   "source": [
    "query = \"SELECT * FROM daily_ind WHERE Name = 'Nasdaq'\"\n",
    "df_sqlite = pd.read_sql(query, conn)\n",
    "print(df_sqlite) "
   ]
  },
  {
   "cell_type": "code",
   "execution_count": 13,
   "id": "63d43a4f-8e35-4f89-946e-a183ac4a5fb4",
   "metadata": {},
   "outputs": [
    {
     "name": "stdout",
     "output_type": "stream",
     "text": [
      "  #     Name      Last      High       Low Change Change%      Time\n",
      "0    Bovespa  134135.0  134738.0  133754.0   -602  -0.45%  14:15:30\n"
     ]
    }
   ],
   "source": [
    "query = \"SELECT * FROM daily_ind WHERE Last > 100000\"\n",
    "df_sqlite = pd.read_sql(query, conn)\n",
    "print(df_sqlite) "
   ]
  },
  {
   "cell_type": "code",
   "execution_count": 16,
   "id": "d7f7243a-8a93-4cab-81e7-6aedba8227b3",
   "metadata": {},
   "outputs": [
    {
     "name": "stdout",
     "output_type": "stream",
     "text": [
      "  #              Name     Last     High      Low  Change Change%      Time\n",
      "0     S&P 500 derived  5485.31  5493.30  5441.81  +14.26  +0.26%  14:30:41\n",
      "1    FTSE 100 derived  8205.98  8271.12  8195.13  -64.86  -0.78%  11:35:29\n",
      "2              CAC 40  7407.55  7476.54  7386.53  -17.71  -0.24%  11:35:59\n",
      "3                 PSI  6706.48  6809.30  6706.48  -68.41  -1.01%  11:35:59\n",
      "4            BIST 100  9624.04  9788.36  9588.02  -75.52  -0.78%  11:09:59\n",
      "5         S&P/ASX 200  8011.90  8057.90  7988.10  +23.80  +0.30%  02:04:59\n",
      "6      SZSE Component  8073.83  8113.69  7973.79  +10.56  +0.13%  03:44:59\n",
      "7       IDX Composite  7761.39  7764.78  7723.30  +58.65  +0.76%  03:59:59\n",
      "8      PSEi Composite  6984.63  7109.75  6984.63   +0.38  +0.01%  02:58:59\n"
     ]
    }
   ],
   "source": [
    "query = \"SELECT * FROM daily_ind WHERE Last > 5000 AND High < 10000\"\n",
    "df_sqlite = pd.read_sql(query, conn)\n",
    "print(df_sqlite) "
   ]
  },
  {
   "cell_type": "code",
   "execution_count": 20,
   "id": "fbf17e18-6446-4d4b-9f87-65b3de76eb3e",
   "metadata": {},
   "outputs": [
    {
     "name": "stdout",
     "output_type": "stream",
     "text": [
      "  #                 Name    Last    High     Low  Change Change%      Time\n",
      "0    S&P 500 VIX derived   19.22   20.74   19.01   -0.23  -1.18%  14:30:31\n",
      "1         DJ New Zealand  351.82  353.72  351.04   +0.39  +0.11%  01:39:56\n",
      "2            DJ Shanghai  371.96  372.91  368.19   +0.27  +0.07%  02:59:55\n",
      "3                    AEX  881.84  890.91  880.22   -6.47  -0.73%  11:35:59\n",
      "4                   RTSI  924.82  951.40  922.13  -17.32  -1.84%  11:40:00\n"
     ]
    }
   ],
   "source": [
    "query = \"SELECT * FROM daily_ind WHERE High < 1000 ORDER BY High, Low\"\n",
    "df_sqlite = pd.read_sql(query, conn)\n",
    "print(df_sqlite) "
   ]
  },
  {
   "cell_type": "code",
   "execution_count": 22,
   "id": "36018182-a6eb-42ba-8f9a-c40e66bb7406",
   "metadata": {},
   "outputs": [
    {
     "name": "stdout",
     "output_type": "stream",
     "text": [
      "  #            Name     Last     High      Low  Change Change%      Time\n",
      "0               PSI  6706.48  6809.30  6706.48  -68.41  -1.01%  11:35:59\n",
      "1    PSEi Composite  6984.63  7109.75  6984.63   +0.38  +0.01%  02:58:59\n"
     ]
    }
   ],
   "source": [
    "query = \"SELECT * FROM daily_ind WHERE Last = Low ORDER BY High, Low\"\n",
    "df_sqlite = pd.read_sql(query, conn)\n",
    "print(df_sqlite) "
   ]
  },
  {
   "cell_type": "code",
   "execution_count": null,
   "id": "3036b2dc-4c9f-40c6-bbcc-22cba19d480b",
   "metadata": {},
   "outputs": [],
   "source": []
  }
 ],
 "metadata": {
  "kernelspec": {
   "display_name": "Python 3 (ipykernel)",
   "language": "python",
   "name": "python3"
  },
  "language_info": {
   "codemirror_mode": {
    "name": "ipython",
    "version": 3
   },
   "file_extension": ".py",
   "mimetype": "text/x-python",
   "name": "python",
   "nbconvert_exporter": "python",
   "pygments_lexer": "ipython3",
   "version": "3.12.3"
  }
 },
 "nbformat": 4,
 "nbformat_minor": 5
}
