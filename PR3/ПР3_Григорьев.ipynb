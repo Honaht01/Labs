{
  "nbformat": 4,
  "nbformat_minor": 0,
  "metadata": {
    "colab": {
      "provenance": []
    },
    "kernelspec": {
      "name": "python3",
      "display_name": "Python 3"
    },
    "language_info": {
      "name": "python"
    }
  },
  "cells": [
    {
      "cell_type": "code",
      "execution_count": null,
      "metadata": {
        "id": "PCXYvDZrbOXs"
      },
      "outputs": [],
      "source": [
        "import pandas as pd\n",
        "import numpy as np\n",
        "import json\n",
        "from datetime import datetime, timedelta\n",
        "import random\n",
        "import uuid\n",
        "import matplotlib.pyplot as plt\n"
      ]
    },
    {
      "cell_type": "code",
      "source": [
        "def random_date(start, end):\n",
        " return start + timedelta(\n",
        " seconds=random.randint(0, int((end - start).total_seconds()))\n",
        " )"
      ],
      "metadata": {
        "id": "DNrpCj8ocYvD"
      },
      "execution_count": null,
      "outputs": []
    },
    {
      "cell_type": "markdown",
      "source": [
        "Генерация данных о клиентах"
      ],
      "metadata": {
        "id": "CN97Su4Ccc1V"
      }
    },
    {
      "cell_type": "code",
      "source": [
        "# Список клиентов\n",
        "clients = []\n",
        "client_city= ['Москва', 'Санкт-Петербург', 'Новосибирск', 'Рязань', 'Омск']\n",
        "# Генерируем 100 клиентов\n",
        "for i in range(100):\n",
        "  client = {\n",
        "  'client_id': str(uuid.uuid4()), # Генерация уникального client_id\n",
        "  'name': f'Клиент {i}',\n",
        "  'birthday': random_date(start_date, end_date).strftime('%Y-%m-%d'),\n",
        "  'city': random.choice(client_city)\n",
        "  }\n",
        "  clients.append(client)\n",
        "\n",
        "# Создание DataFrame для клиентов\n",
        "clients_df = pd.DataFrame(clients)\n",
        "clients_df.to_csv('clients.csv', index=False)\n",
        "print(\"Файл clients.csv создан\")\n",
        "\n"
      ],
      "metadata": {
        "colab": {
          "base_uri": "https://localhost:8080/"
        },
        "id": "dpqqIh1Hcehm",
        "outputId": "ba651295-0c62-43ac-fefa-638b4d7f52bf"
      },
      "execution_count": null,
      "outputs": [
        {
          "output_type": "stream",
          "name": "stdout",
          "text": [
            "Файл clients.csv создан\n"
          ]
        }
      ]
    },
    {
      "cell_type": "markdown",
      "source": [
        "Генерация данных о заказах"
      ],
      "metadata": {
        "id": "Fn8OO6dteW7w"
      }
    },
    {
      "cell_type": "code",
      "source": [
        "orders_2023 = []\n",
        "start_order = datetime(2023, 1, 1)\n",
        "end_order = datetime(2023, 12, 31)\n",
        "\n",
        "# Генерируем 1000 заказов\n",
        "for a in range(1000):\n",
        "  client = random.choice(clients) # Выбор случайного клиента из списка\n",
        "  order = {\n",
        "  'order_number': f'O{a:03d}', # Используем a для формирования номера заказа\n",
        "  'client_id': client['client_id'],\n",
        "  'price': random.randint(15, 1000),\n",
        "  'date': random_date(start_order, end_order).strftime('%Y-%m-%d')\n",
        "  }\n",
        "  orders_2023.append(order)\n",
        "\n",
        "# Создание DataFrame для заказов\n",
        "df_orders23 = pd.DataFrame(orders_2023)\n",
        "\n",
        "# Сохранение в Excel\n",
        "df_orders23.to_excel('orders23.xlsx', index=False)\n",
        "print(\"Файл orders23.xlsx создан\")"
      ],
      "metadata": {
        "colab": {
          "base_uri": "https://localhost:8080/"
        },
        "id": "MI33IS9xeWQs",
        "outputId": "988fcbab-6ef8-4f99-8396-be8e74eb09a0"
      },
      "execution_count": null,
      "outputs": [
        {
          "output_type": "stream",
          "name": "stdout",
          "text": [
            "Файл orders23.xlsx создан\n"
          ]
        }
      ]
    },
    {
      "cell_type": "code",
      "source": [
        "orders_2022 = []\n",
        "start_order = datetime(2022, 1, 1)\n",
        "end_order = datetime(2022, 12, 31)\n",
        "\n",
        "# Генерируем 850 заказов\n",
        "for a in range(850):\n",
        "  client = random.choice(clients) # Выбор случайного клиента из списка\n",
        "  order = {\n",
        "  'order_number': f'A{a:03d}', # Используем a для формирования номера заказа\n",
        "  'client_id': client['client_id'],\n",
        "  'price': random.randint(10, 1000),\n",
        "  'date': random_date(start_order, end_order).strftime('%Y-%m-%d')\n",
        "  }\n",
        "  orders_2022.append(order)\n",
        "\n",
        "# Создание DataFrame для заказов\n",
        "df_orders22 = pd.DataFrame(orders_2022)\n",
        "\n",
        "# Сохранение в Excel\n",
        "df_orders22.to_excel('orders22.xlsx', index=False)\n",
        "print(\"Файл orders22.xlsx создан\")"
      ],
      "metadata": {
        "colab": {
          "base_uri": "https://localhost:8080/"
        },
        "id": "RwjD2vwsnm32",
        "outputId": "b5a62c80-a486-4a2f-a512-6713e4c91060"
      },
      "execution_count": null,
      "outputs": [
        {
          "output_type": "stream",
          "name": "stdout",
          "text": [
            "Файл orders22.xlsx создан\n"
          ]
        }
      ]
    },
    {
      "cell_type": "markdown",
      "source": [
        "Генерация данных о скидках"
      ],
      "metadata": {
        "id": "Qax0CTjMnkes"
      }
    },
    {
      "cell_type": "code",
      "source": [
        "discounts = []\n",
        "\n",
        "for a in client_city:\n",
        " discount = {\n",
        " 'city': a,\n",
        " 'discount_rate': random.randint(10, 50)\n",
        " }\n",
        " discounts.append(discount)\n",
        "\n",
        "with open('discounts.json', 'w', encoding='utf-8') as f:\n",
        " json.dump(discounts, f, ensure_ascii=False, indent=4)\n",
        "print(\"Файл discounts.json создан\")"
      ],
      "metadata": {
        "colab": {
          "base_uri": "https://localhost:8080/"
        },
        "id": "_laulAB8gbgz",
        "outputId": "b8ff2f58-5879-4d7e-a92c-8e5df636086e"
      },
      "execution_count": null,
      "outputs": [
        {
          "output_type": "stream",
          "name": "stdout",
          "text": [
            "Файл discounts.json создан\n"
          ]
        }
      ]
    },
    {
      "cell_type": "markdown",
      "source": [
        "Консолидация данных"
      ],
      "metadata": {
        "id": "AQql-Z3kiBYS"
      }
    },
    {
      "cell_type": "code",
      "source": [
        "df_clients = pd.read_csv('clients.csv')\n",
        "print(\"Данные о клиентах:\")\n",
        "print(df_clients.head())\n"
      ],
      "metadata": {
        "colab": {
          "base_uri": "https://localhost:8080/"
        },
        "id": "Q2XAFi1PiAPM",
        "outputId": "03322c41-6b31-4995-98e8-b76a00d22f3c"
      },
      "execution_count": null,
      "outputs": [
        {
          "output_type": "stream",
          "name": "stdout",
          "text": [
            "Данные о клиентах:\n",
            "                              client_id      name    birthday         city\n",
            "0  f54c11c1-a696-4c45-9ffa-9a2c1e702cb3  Клиент 0  1991-02-04  Новосибирск\n",
            "1  fda8a72b-0d3e-4a40-85c6-9137d7d86ba0  Клиент 1  1980-11-18  Новосибирск\n",
            "2  6a7f3add-e606-4442-8fb4-e6d0f1fb5096  Клиент 2  2002-02-17       Рязань\n",
            "3  77ba80e0-24ae-4de7-9e35-39c34f58dbaa  Клиент 3  1984-11-10       Москва\n",
            "4  2e17807d-f5b8-40d0-86e7-83650f1e676f  Клиент 4  1998-03-20  Новосибирск\n"
          ]
        }
      ]
    },
    {
      "cell_type": "code",
      "source": [
        "df_orders23 = pd.read_excel('orders23.xlsx')\n",
        "print(\"Данные о заказах:\")\n",
        "print(df_orders23.head())\n"
      ],
      "metadata": {
        "colab": {
          "base_uri": "https://localhost:8080/"
        },
        "id": "5Fxa4FyXiTbW",
        "outputId": "022b9d51-4d7f-460f-a490-de7a09c3510b"
      },
      "execution_count": null,
      "outputs": [
        {
          "output_type": "stream",
          "name": "stdout",
          "text": [
            "Данные о заказах:\n",
            "  order_number                             client_id  price        date\n",
            "0         O000  e960b580-dfab-4ade-8775-573f51141494    914  2023-06-09\n",
            "1         O001  7ff29597-ea8a-4d1e-b775-4f459e2f2ad9    687  2023-02-03\n",
            "2         O002  caa30c78-aa6a-4382-8d21-188952c4083b    122  2023-08-19\n",
            "3         O003  1b6bce7c-8a6d-474d-853c-dcdc73191cce    511  2023-01-03\n",
            "4         O004  5756bdb5-b700-43e6-8b6c-dfb7e35bf786    382  2023-10-03\n"
          ]
        }
      ]
    },
    {
      "cell_type": "code",
      "source": [
        "df_orders22 = pd.read_excel('orders22.xlsx')\n",
        "print(\"Данные о заказах:\")\n",
        "print(df_orders22.head())"
      ],
      "metadata": {
        "colab": {
          "base_uri": "https://localhost:8080/"
        },
        "id": "XDVIL-lMn2JZ",
        "outputId": "07ca4d57-2b6c-4afb-891c-6105f57f74a7"
      },
      "execution_count": null,
      "outputs": [
        {
          "output_type": "stream",
          "name": "stdout",
          "text": [
            "Данные о заказах:\n",
            "  order_number                             client_id  price        date\n",
            "0         A000  815fbf47-4a93-4bd1-8165-4d59a9945990    568  2022-08-30\n",
            "1         A001  62612b69-051a-4e9c-9570-5b0aea82bb2d    745  2022-03-07\n",
            "2         A002  7d794c88-a26e-42a4-95ce-96868208d95a    349  2022-01-27\n",
            "3         A003  1cbd1897-fb4d-42b4-be34-42340bacdd12    249  2022-10-07\n",
            "4         A004  b5d19d0e-b107-44bf-885f-9161dff0d01a    549  2022-02-23\n"
          ]
        }
      ]
    },
    {
      "cell_type": "code",
      "source": [
        "df_discounts = pd.read_json('discounts.json')\n",
        "print(\"Данные о скидках:\")\n",
        "print(df_discounts.head())\n"
      ],
      "metadata": {
        "colab": {
          "base_uri": "https://localhost:8080/"
        },
        "id": "U-lYpoMslAw-",
        "outputId": "25dd0494-f1d6-4d2b-e0f8-23ce011b3903"
      },
      "execution_count": null,
      "outputs": [
        {
          "output_type": "stream",
          "name": "stdout",
          "text": [
            "Данные о скидках:\n",
            "              city  discount_rate\n",
            "0           Москва             36\n",
            "1  Санкт-Петербург             37\n",
            "2      Новосибирск             28\n",
            "3             Омск             41\n",
            "4           Рязань             30\n"
          ]
        }
      ]
    },
    {
      "cell_type": "code",
      "source": [
        "print(\"\\nПропущенные значения:\")\n",
        "print(df_clients.isnull().sum())\n",
        "print(df_orders22.isnull().sum())\n",
        "print(df_orders23.isnull().sum())\n",
        "print(df_discounts.isnull().sum())"
      ],
      "metadata": {
        "colab": {
          "base_uri": "https://localhost:8080/"
        },
        "id": "tSrxMKAIkzLx",
        "outputId": "eded024a-ff01-4ad0-8264-81ef9d38db18"
      },
      "execution_count": null,
      "outputs": [
        {
          "output_type": "stream",
          "name": "stdout",
          "text": [
            "\n",
            "Пропущенные значения:\n",
            "client_id    0\n",
            "name         0\n",
            "birthday     0\n",
            "city         0\n",
            "dtype: int64\n",
            "order_number    0\n",
            "client_id       0\n",
            "price           0\n",
            "date            0\n",
            "dtype: int64\n",
            "order_number    0\n",
            "client_id       0\n",
            "price           0\n",
            "date            0\n",
            "dtype: int64\n",
            "city             0\n",
            "discount_rate    0\n",
            "dtype: int64\n"
          ]
        }
      ]
    },
    {
      "cell_type": "code",
      "source": [
        "df_clients.columns = df_clients.columns.str.lower()\n",
        "df_orders22.columns = df_orders22.columns.str.lower()\n",
        "df_orders23.columns = df_orders23.columns.str.lower()\n",
        "df_discounts.columns = df_discounts.columns.str.lower()"
      ],
      "metadata": {
        "id": "0tt64le7ok3X"
      },
      "execution_count": null,
      "outputs": []
    },
    {
      "cell_type": "code",
      "source": [
        "df_orders = pd.concat([df_orders22, df_orders23], ignore_index=True)\n",
        "print(\"\\nОбъединенные данные о заказах:\")\n",
        "print(df_orders.head())"
      ],
      "metadata": {
        "colab": {
          "base_uri": "https://localhost:8080/"
        },
        "id": "qRJ4VBLbo65E",
        "outputId": "e9285eac-57d7-4b38-836e-d76c1093ad6b"
      },
      "execution_count": null,
      "outputs": [
        {
          "output_type": "stream",
          "name": "stdout",
          "text": [
            "\n",
            "Объединенные данные о заказах:\n",
            "  order_number                             client_id  price        date\n",
            "0         A000  815fbf47-4a93-4bd1-8165-4d59a9945990    568  2022-08-30\n",
            "1         A001  62612b69-051a-4e9c-9570-5b0aea82bb2d    745  2022-03-07\n",
            "2         A002  7d794c88-a26e-42a4-95ce-96868208d95a    349  2022-01-27\n",
            "3         A003  1cbd1897-fb4d-42b4-be34-42340bacdd12    249  2022-10-07\n",
            "4         A004  b5d19d0e-b107-44bf-885f-9161dff0d01a    549  2022-02-23\n"
          ]
        }
      ]
    },
    {
      "cell_type": "code",
      "source": [
        "df_consolidated = pd.merge(df_orders, df_clients, on='client_id', how='left')\n",
        "print(\"\\nКонсолидированные данные:\")\n",
        "print(df_consolidated.head())\n"
      ],
      "metadata": {
        "colab": {
          "base_uri": "https://localhost:8080/"
        },
        "id": "RzC_sXZypLOU",
        "outputId": "41b1ca0f-378d-418d-e033-599f5f8fe4dc"
      },
      "execution_count": null,
      "outputs": [
        {
          "output_type": "stream",
          "name": "stdout",
          "text": [
            "\n",
            "Консолидированные данные:\n",
            "  order_number                             client_id  price        date  \\\n",
            "0         A000  815fbf47-4a93-4bd1-8165-4d59a9945990    568  2022-08-30   \n",
            "1         A001  62612b69-051a-4e9c-9570-5b0aea82bb2d    745  2022-03-07   \n",
            "2         A002  7d794c88-a26e-42a4-95ce-96868208d95a    349  2022-01-27   \n",
            "3         A003  1cbd1897-fb4d-42b4-be34-42340bacdd12    249  2022-10-07   \n",
            "4         A004  b5d19d0e-b107-44bf-885f-9161dff0d01a    549  2022-02-23   \n",
            "\n",
            "        name    birthday             city  \n",
            "0  Клиент 50  1995-01-25      Новосибирск  \n",
            "1  Клиент 64  1959-03-29      Новосибирск  \n",
            "2  Клиент 32  1957-05-23             Омск  \n",
            "3  Клиент 99  1977-04-08  Санкт-Петербург  \n",
            "4  Клиент 58  1987-01-12           Москва  \n"
          ]
        }
      ]
    },
    {
      "cell_type": "code",
      "source": [
        "df_consolidated2 = pd.merge(df_consolidated, df_discounts, on='city', how='left')\n",
        "print(\"\\nКонсолидированные данные (все таблицы):\")\n",
        "print(df_consolidated2.head())"
      ],
      "metadata": {
        "colab": {
          "base_uri": "https://localhost:8080/"
        },
        "id": "zozzD4oEpUh1",
        "outputId": "40407700-37e7-452d-b7d6-c5cea82665cd"
      },
      "execution_count": null,
      "outputs": [
        {
          "output_type": "stream",
          "name": "stdout",
          "text": [
            "\n",
            "Консолидированные данные (все таблицы):\n",
            "  order_number                             client_id  price        date  \\\n",
            "0         A000  815fbf47-4a93-4bd1-8165-4d59a9945990    568  2022-08-30   \n",
            "1         A001  62612b69-051a-4e9c-9570-5b0aea82bb2d    745  2022-03-07   \n",
            "2         A002  7d794c88-a26e-42a4-95ce-96868208d95a    349  2022-01-27   \n",
            "3         A003  1cbd1897-fb4d-42b4-be34-42340bacdd12    249  2022-10-07   \n",
            "4         A004  b5d19d0e-b107-44bf-885f-9161dff0d01a    549  2022-02-23   \n",
            "\n",
            "        name    birthday             city  discount_rate  \n",
            "0  Клиент 50  1995-01-25      Новосибирск             28  \n",
            "1  Клиент 64  1959-03-29      Новосибирск             28  \n",
            "2  Клиент 32  1957-05-23             Омск             41  \n",
            "3  Клиент 99  1977-04-08  Санкт-Петербург             37  \n",
            "4  Клиент 58  1987-01-12           Москва             36  \n"
          ]
        }
      ]
    },
    {
      "cell_type": "code",
      "source": [
        "income_by_city = df_consolidated.groupby('city')['price'].sum().sort_values(ascending=False)\n",
        "print(\"\\nДоход по городам:\")\n",
        "print(income_by_city)"
      ],
      "metadata": {
        "colab": {
          "base_uri": "https://localhost:8080/"
        },
        "id": "5I0M9eNJpqxl",
        "outputId": "2bbc5fa1-8550-4fc8-ea9b-f74988fade59"
      },
      "execution_count": null,
      "outputs": [
        {
          "output_type": "stream",
          "name": "stdout",
          "text": [
            "\n",
            "Доход по городам:\n",
            "city\n",
            "Москва             240379\n",
            "Новосибирск        218418\n",
            "Рязань             211551\n",
            "Омск               159464\n",
            "Санкт-Петербург    124683\n",
            "Name: price, dtype: int64\n"
          ]
        }
      ]
    },
    {
      "cell_type": "code",
      "source": [
        "df_consolidated2['year'] = pd.to_datetime(df_consolidated['date']).dt.year\n",
        "income_by_year = df_consolidated2.groupby('year')['price'].mean()\n",
        "print(\"\\nДоход по годам:\")\n",
        "print(income_by_year)"
      ],
      "metadata": {
        "colab": {
          "base_uri": "https://localhost:8080/"
        },
        "id": "GELRAxK1qG3p",
        "outputId": "faef7977-a265-4442-b1c0-09407c859d47"
      },
      "execution_count": null,
      "outputs": [
        {
          "output_type": "stream",
          "name": "stdout",
          "text": [
            "\n",
            "Доход по годам:\n",
            "year\n",
            "2022    525.000\n",
            "2023    508.245\n",
            "Name: price, dtype: float64\n"
          ]
        }
      ]
    },
    {
      "cell_type": "code",
      "source": [
        "plt.figure(figsize=(12, 6))\n",
        "income_by_city.plot(kind='bar')\n",
        "plt.title('Доход по городам')\n",
        "plt.xlabel('Город')\n",
        "plt.ylabel('Доход')\n",
        "plt.tight_layout()\n",
        "plt.savefig('income_by_city.png')"
      ],
      "metadata": {
        "colab": {
          "base_uri": "https://localhost:8080/",
          "height": 607
        },
        "id": "cnOrzPcIqlMm",
        "outputId": "5b9da2e8-c851-42f7-a53c-10a4451d92f4"
      },
      "execution_count": null,
      "outputs": [
        {
          "output_type": "display_data",
          "data": {
            "text/plain": [
              "<Figure size 1200x600 with 1 Axes>"
            ],
            "image/png": "[encoded data removed]"
          },
          "metadata": {}
        }
      ]
    },
    {
      "cell_type": "code",
      "source": [
        "plt.figure(figsize=(12, 6))\n",
        "income_by_year.plot(kind='bar')\n",
        "plt.title('Доход по годам')\n",
        "plt.xlabel('Год')\n",
        "plt.ylabel('Доход')\n",
        "plt.tight_layout()\n",
        "plt.savefig('income_by_city.png')"
      ],
      "metadata": {
        "colab": {
          "base_uri": "https://localhost:8080/",
          "height": 607
        },
        "id": "AXp1_RwNrEFE",
        "outputId": "446bb1ca-1a13-47c6-af47-0471a942a621"
      },
      "execution_count": null,
      "outputs": [
        {
          "output_type": "display_data",
          "data": {
            "text/plain": [
              "<Figure size 1200x600 with 1 Axes>"
            ],
            "image/png": "[encoded data removed]"
          },
          "metadata": {}
        }
      ]
    },
    {
      "cell_type": "code",
      "source": [
        "df_consolidated2.to_csv('consolidated_client_data.csv', index=False)\n",
        "print(\"\\nКонсолидированные данные сохранены в файл 'consolidated_client_data.csv'\")"
      ],
      "metadata": {
        "colab": {
          "base_uri": "https://localhost:8080/"
        },
        "id": "fyzdMS8UsJTb",
        "outputId": "34ec84ff-f282-442c-d201-51fbbccb5d5f"
      },
      "execution_count": null,
      "outputs": [
        {
          "output_type": "stream",
          "name": "stdout",
          "text": [
            "\n",
            "Консолидированные данные сохранены в файл 'consolidated_client_data.csv'\n"
          ]
        }
      ]
    }
  ]
}